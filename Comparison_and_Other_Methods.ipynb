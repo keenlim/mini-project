{
  "cells": [
    {
      "cell_type": "markdown",
      "metadata": {
        "id": "n6yoDGzBS-81"
      },
      "source": [
        "## Comparing three different models "
      ]
    },
    {
      "cell_type": "code",
      "execution_count": null,
      "metadata": {
        "colab": {
          "base_uri": "https://localhost:8080/"
        },
        "id": "msu4kOeDTByq",
        "outputId": "bc52d770-fd42-4f95-b722-7aa9496b53c3"
      },
      "outputs": [
        {
          "output_type": "stream",
          "name": "stdout",
          "text": [
            "41/41 [==============================] - 0s 2ms/step - loss: 0.4814 - accuracy: 0.7823\n",
            "Dense architecture loss and accuracy: [0.48138561844825745, 0.7822765707969666]\n",
            "41/41 [==============================] - 0s 8ms/step - loss: 0.5129 - accuracy: 0.7618\n",
            "LSTM architecture loss and accuracy: [0.5128971338272095, 0.7618436217308044]\n",
            "41/41 [==============================] - 0s 12ms/step - loss: 0.4982 - accuracy: 0.7748\n",
            "Bi-LSTM architecture loss and accuracy: [0.49822694063186646, 0.7747899293899536]\n"
          ]
        }
      ],
      "source": [
        "print(f\"Dense architecture loss and accuracy: {model.evaluate(testing_padded,isDisaster_test)}\")\n",
        "print(f\"LSTM architecture loss and accuracy: {model1.evaluate(testing_padded,isDisaster_test)}\")\n",
        "print(f\"Bi-LSTM architecture loss and accuracy: {model2.evaluate(testing_padded,isDisaster_test)}\")"
      ]
    },
    {
      "cell_type": "markdown",
      "metadata": {
        "id": "Jsy1mfbhMXHb"
      },
      "source": [
        ":We uses a bar plot to help with the visualisation of our results. Hence, by sorting the data to be shown in an ascending order in the bar plot, our results show that out of the three models, the dense model have provided us with the best accuracy result. "
      ]
    },
    {
      "cell_type": "code",
      "execution_count": null,
      "metadata": {
        "colab": {
          "base_uri": "https://localhost:8080/",
          "height": 493
        },
        "id": "OM4XJ1Py1xeF",
        "outputId": "514e9b12-bd72-47f7-f52b-4d6ba23e8b96"
      },
      "outputs": [
        {
          "output_type": "stream",
          "name": "stdout",
          "text": [
            "41/41 [==============================] - 0s 1ms/step - loss: 0.4814 - accuracy: 0.7823\n",
            "41/41 [==============================] - 0s 8ms/step - loss: 0.5129 - accuracy: 0.7618\n",
            "41/41 [==============================] - 0s 11ms/step - loss: 0.4982 - accuracy: 0.7748\n"
          ]
        },
        {
          "output_type": "display_data",
          "data": {
            "text/plain": [
              "<Figure size 576x432 with 1 Axes>"
            ],
            "image/png": "[encoded data removed]"
          },
          "metadata": {
            "needs_background": "light"
          }
        }
      ],
      "source": [
        "# Visualisation to compare the different 3 models in terms of their accuracy \n",
        "import matplotlib.pyplot as plt\n",
        "import pandas as pd\n",
        "import numpy as isDisaster_tweets_numpy\n",
        "import seaborn as sns\n",
        "\n",
        "Dense_loss,Dense_accuracy = model.evaluate(testing_padded,isDisaster_test)\n",
        "LSTM_loss,LSTM_accuracy = model1.evaluate(testing_padded,isDisaster_test)\n",
        "BiLSTM_loss,BiLSTM_accuracy = model2.evaluate(testing_padded,isDisaster_test)\n",
        "\n",
        "models = ['Dense','LSTM','Bi-LSTM']\n",
        "accuracy = [Dense_accuracy,LSTM_accuracy,BiLSTM_accuracy]\n",
        "\n",
        "df = pd.DataFrame({\"Models\":models,\"Accuracy\":accuracy})\n",
        "df\n",
        "\n",
        "plt.figure(figsize=(8,6))\n",
        "sns.barplot(x='Models',y=\"Accuracy\",data=df,order=df.sort_values('Accuracy').Models)\n",
        "plt.xlabel(\"Models\",size = 15)\n",
        "plt.ylabel(\"Accuracy\",size = 15)\n",
        "plt.title(\"Accuracy of different models\",size = 15)\n",
        "plt.tight_layout()\n"
      ]
    },
    {
      "cell_type": "markdown",
      "metadata": {
        "id": "71YN3G-KNr2h"
      },
      "source": [
        "## Other methods: Decision Tree Classifier\n",
        "---\n",
        "Decision Tree is a supervised machine learning algorithm, that is similar to how humans make decisions. \n",
        "\n",
        "Here, we used the decision tree to obtain results for classification. The intuiton behind it is that we train our data to predict their outputs. \n",
        "\n",
        "Here, we create a decision tree of max_depth 4 and obtain our results as shown by the confusion metrics.\n",
        "\n"
      ]
    },
    {
      "cell_type": "code",
      "execution_count": null,
      "metadata": {
        "colab": {
          "base_uri": "https://localhost:8080/",
          "height": 386
        },
        "id": "QkkMqgDNJY9f",
        "outputId": "6ebe0212-9efb-40ac-b692-98f6686cd60d"
      },
      "outputs": [
        {
          "output_type": "stream",
          "name": "stdout",
          "text": [
            "Goodness of Fit of Model \tTrain Dataset\n",
            "Classification Accuracy \t: 0.6139881521115995\n",
            "\n",
            "Goodness of Fit of Model \tTest Dataset\n",
            "Classification Accuracy \t: 0.5752482811306341\n",
            "\n"
          ]
        },
        {
          "output_type": "execute_result",
          "data": {
            "text/plain": [
              "<matplotlib.axes._subplots.AxesSubplot at 0x7fbf9ac473d0>"
            ]
          },
          "metadata": {},
          "execution_count": 69
        },
        {
          "output_type": "display_data",
          "data": {
            "text/plain": [
              "<Figure size 864x288 with 4 Axes>"
            ],
            "image/png": "[encoded data removed]"
          },
          "metadata": {
            "needs_background": "light"
          }
        }
      ],
      "source": [
        "# Import essential models and functions from sklearn\n",
        "from sklearn.tree import DecisionTreeClassifier\n",
        "from sklearn.model_selection import train_test_split\n",
        "from sklearn.metrics import confusion_matrix\n",
        "import seaborn as sb\n",
        "\n",
        "# Decision Tree using Train Data\n",
        "dectree = DecisionTreeClassifier(max_depth = 4)  # create the decision tree object\n",
        "dectree.fit(training_padded, isDisaster_train)   # train the decision tree model\n",
        "\n",
        "# Predict \n",
        "y_train_pred = dectree.predict(training_padded)\n",
        "y_test_pred = dectree.predict(testing_padded)\n",
        "\n",
        "# Check the Goodness of Fit (on Train Data)\n",
        "print(\"Goodness of Fit of Model \\tTrain Dataset\")\n",
        "print(\"Classification Accuracy \\t:\", dectree.score(training_padded, isDisaster_train))\n",
        "print()\n",
        "\n",
        "# Check the Goodness of Fit (on Test Data)\n",
        "print(\"Goodness of Fit of Model \\tTest Dataset\")\n",
        "print(\"Classification Accuracy \\t:\", dectree.score(testing_padded,isDisaster_test))\n",
        "print()\n",
        "\n",
        "# Plot the Confusion Matrix for Train and Test\n",
        "f, axes = plt.subplots(1, 2, figsize=(12, 4))\n",
        "sb.heatmap(confusion_matrix(isDisaster_train, y_train_pred),\n",
        "    annot = True, fmt=\".0f\", annot_kws={\"size\": 18}, ax = axes[0])\n",
        "sb.heatmap(confusion_matrix(isDisaster_test, y_test_pred), \n",
        "           annot = True, fmt=\".0f\", annot_kws={\"size\": 18}, ax = axes[1])"
      ]
    },
    {
      "cell_type": "markdown",
      "metadata": {
        "id": "kQWrLN-miirS"
      },
      "source": [
        "## Other methods : Random Forest Classifier"
      ]
    },
    {
      "cell_type": "markdown",
      "metadata": {
        "id": "mgQSrKHv45Xd"
      },
      "source": [
        "First, we will tune the hyperparameter using GridSearchCV from sklearn\n",
        "\n",
        "GridSearchCV will take the following parameters:\n",
        "\n",
        "\n",
        "*   Estimator - RandomForestClassifier\n",
        "*   Parameters \n",
        "*   CV - signifies cross-validation folds\n",
        "*   return_train_score - returns the training scores of the various models\n",
        "*   n_jobs - no. of jobs to run parallely\n",
        "\n"
      ]
    },
    {
      "cell_type": "code",
      "execution_count": null,
      "metadata": {
        "id": "yfPVoRbD8JZi"
      },
      "outputs": [],
      "source": [
        "from sklearn.model_selection import GridSearchCV\n",
        "from sklearn.ensemble import RandomForestClassifier\n",
        "from sklearn.metrics import accuracy_score, precision_score, recall_score, confusion_matrix, roc_curve, classification_report\n",
        "from sklearn.metrics import plot_confusion_matrix"
      ]
    },
    {
      "cell_type": "markdown",
      "metadata": {
        "id": "xkvhdFOu942u"
      },
      "source": [
        "We will pass this as a parameter to GridSearchCV to train our random forest classifier model using all possible combinations of these parameters to find the best model - stuck"
      ]
    },
    {
      "cell_type": "code",
      "execution_count": null,
      "metadata": {
        "id": "q1PXBTbD88Nf"
      },
      "outputs": [],
      "source": [
        "parameters = {'max_features':('auto','sqrt'),\n",
        "              'n_estimators':[10],\n",
        "              'max_depth':[None],\n",
        "              'min_samples_split':[5,10,15],\n",
        "              'min_samples_leaf':[1,2,5,10],\n",
        "              'bootstrap':[True,False]}"
      ]
    },
    {
      "cell_type": "code",
      "execution_count": null,
      "metadata": {
        "id": "ICNcDMXdQtao"
      },
      "outputs": [],
      "source": [
        "forest = RandomForestClassifier(random_state = 1, n_estimators = 10, min_samples_split = 2)\n",
        "modelF = forest.fit(training_padded,isDisaster_train)\n",
        "y_predF = modelF.predict(testing_padded)"
      ]
    },
    {
      "cell_type": "code",
      "execution_count": null,
      "metadata": {
        "id": "A3dl1I4wRVa8"
      },
      "outputs": [],
      "source": [
        "acc_score = accuracy_score(isDisaster_test,y_predF)\n",
        "pre_score = precision_score(isDisaster_test,y_predF)\n",
        "rec_score = recall_score(isDisaster_test,y_predF)"
      ]
    },
    {
      "cell_type": "code",
      "execution_count": null,
      "metadata": {
        "colab": {
          "base_uri": "https://localhost:8080/"
        },
        "id": "7Ym5Hu2pRoDH",
        "outputId": "acd67684-e8db-4c65-fbc2-4936a327919e"
      },
      "outputs": [
        {
          "output_type": "stream",
          "name": "stdout",
          "text": [
            "Accuracy_score:  0.6195569136745608\n",
            "Precision_score:  0.6704331450094162\n",
            "Recall_score:  0.524300441826215\n"
          ]
        }
      ],
      "source": [
        "print('Accuracy_score: ',acc_score)\n",
        "print('Precision_score: ',pre_score)\n",
        "print('Recall_score: ',rec_score)"
      ]
    },
    {
      "cell_type": "code",
      "execution_count": null,
      "metadata": {
        "colab": {
          "base_uri": "https://localhost:8080/",
          "height": 282
        },
        "id": "xWtFV5saSDo5",
        "outputId": "f9f9796b-0fc9-4964-d73f-c9e7903e65ce"
      },
      "outputs": [
        {
          "output_type": "execute_result",
          "data": {
            "text/plain": [
              "<matplotlib.axes._subplots.AxesSubplot at 0x7fbf92e37410>"
            ]
          },
          "metadata": {},
          "execution_count": 75
        },
        {
          "output_type": "display_data",
          "data": {
            "text/plain": [
              "<Figure size 432x288 with 2 Axes>"
            ],
            "image/png": "[encoded data removed]"
          },
          "metadata": {
            "needs_background": "light"
          }
        }
      ],
      "source": [
        "sb.heatmap(confusion_matrix(isDisaster_test,y_predF),annot = True, fmt=\".0f\", annot_kws={\"size\": 18})"
      ]
    }
  ],
  "metadata": {
    "colab": {
      "collapsed_sections": [],
      "name": "Comparison and Other Methods.ipynb",
      "toc_visible": true,
      "provenance": []
    },
    "kernelspec": {
      "display_name": "Python 3",
      "name": "python3"
    },
    "language_info": {
      "name": "python"
    }
  },
  "nbformat": 4,
  "nbformat_minor": 0
}